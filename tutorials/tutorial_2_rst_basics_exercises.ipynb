{
 "cells": [
  {
   "cell_type": "markdown",
   "source": [
    "# Tutorial 2: reStructuredText (RST) basics & exercises"
   ],
   "metadata": {
    "collapsed": false
   },
   "id": "d03514c760d3a4eb"
  },
  {
   "cell_type": "markdown",
   "source": [
    "This tutorial provides exercises to help you familiar with the basic syntax of the RST language\n",
    "\n"
   ],
   "metadata": {
    "collapsed": false
   },
   "id": "57aec47ede64fbc1"
  },
  {
   "cell_type": "code",
   "execution_count": null,
   "outputs": [],
   "source": [],
   "metadata": {
    "collapsed": false
   },
   "id": "42f5cc2608712eb1"
  }
 ],
 "metadata": {
  "kernelspec": {
   "display_name": "Python 3",
   "language": "python",
   "name": "python3"
  },
  "language_info": {
   "codemirror_mode": {
    "name": "ipython",
    "version": 2
   },
   "file_extension": ".py",
   "mimetype": "text/x-python",
   "name": "python",
   "nbconvert_exporter": "python",
   "pygments_lexer": "ipython2",
   "version": "2.7.6"
  }
 },
 "nbformat": 4,
 "nbformat_minor": 5
}
