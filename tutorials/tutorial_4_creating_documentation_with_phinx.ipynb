{
 "cells": [
  {
   "cell_type": "markdown",
   "source": [
    "# Tutorial 4: Documenting Python project with Sphinx"
   ],
   "metadata": {
    "collapsed": false
   },
   "id": "d03514c760d3a4eb"
  },
  {
   "cell_type": "markdown",
   "source": [
    "In this tutorial, you will learn how to create a new documentation with Sphinx from:\n",
    "\n",
    "   - [Command-line](https://research-software-development-tutorials.readthedocs.io/en/latest/beginner/documenting_code/creating_new_documentation.html#setting-up-a-sphinx-project): see the `Setting up a Sphinx project` and `From the command line` sections\n",
    "   - [PyCharm](https://research-software-development-tutorials.readthedocs.io/en/latest/beginner/documenting_code/updating_documentation.html#updating-documentation-with-pycharm)\n",
    "\n"
   ],
   "metadata": {
    "collapsed": false
   },
   "id": "de794115954b0e1d"
  }
 ],
 "metadata": {
  "kernelspec": {
   "display_name": "Python 3",
   "language": "python",
   "name": "python3"
  },
  "language_info": {
   "codemirror_mode": {
    "name": "ipython",
    "version": 2
   },
   "file_extension": ".py",
   "mimetype": "text/x-python",
   "name": "python",
   "nbconvert_exporter": "python",
   "pygments_lexer": "ipython2",
   "version": "2.7.6"
  }
 },
 "nbformat": 4,
 "nbformat_minor": 5
}
