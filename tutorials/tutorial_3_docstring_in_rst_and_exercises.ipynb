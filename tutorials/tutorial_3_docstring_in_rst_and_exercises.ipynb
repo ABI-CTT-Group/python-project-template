{
 "cells": [
  {
   "cell_type": "markdown",
   "source": [
    "# Tutorial 3: Docstring in RST & exercises"
   ],
   "metadata": {
    "collapsed": false
   },
   "id": "d03514c760d3a4eb"
  },
  {
   "cell_type": "markdown",
   "source": [
    "This tutorial provides exercises to help you familiar with the RST docstring format.\n",
    "\n",
    "See [here](https://thomas-cokelaer.info/tutorials/sphinx/docstring_python.html#template.MainClass1) for more RST docstrings examples. \n",
    "\n"
   ],
   "metadata": {
    "collapsed": false
   },
   "id": "57aec47ede64fbc1"
  },
  {
   "cell_type": "markdown",
   "source": [
    "## Exercise 1\n",
    "Add docstring to the function below"
   ],
   "metadata": {
    "collapsed": false
   },
   "id": "fe2d05b8a5ef0dff"
  },
  {
   "cell_type": "code",
   "execution_count": 32,
   "outputs": [],
   "source": [
    "def greet(name):\n",
    "    \"\"\"\n",
    "    SUMMARY\n",
    "    \n",
    "    :param name: \n",
    "    :type name: \n",
    "    :return: \n",
    "    :rtype: \n",
    "    \"\"\"\n",
    "    my_string = \"Hello {name}\".format(name=name)\n",
    "    print(my_string)"
   ],
   "metadata": {
    "collapsed": false,
    "ExecuteTime": {
     "end_time": "2023-10-01T08:56:49.841824Z",
     "start_time": "2023-10-01T08:56:49.801822Z"
    }
   },
   "id": "e610b808910f004f"
  },
  {
   "cell_type": "markdown",
   "source": [
    "## Exercise 2\n",
    "Add docstring to the function below"
   ],
   "metadata": {
    "collapsed": false
   },
   "id": "d1a8ab673b14a52f"
  },
  {
   "cell_type": "code",
   "execution_count": 33,
   "outputs": [],
   "source": [
    "def multiply_numbers(a, b):\n",
    "    \"\"\"\n",
    "    TODO\n",
    "    \"\"\"\n",
    "    \n",
    "    result = a * b\n",
    "    return result"
   ],
   "metadata": {
    "collapsed": false,
    "ExecuteTime": {
     "end_time": "2023-10-01T08:56:49.859821100Z",
     "start_time": "2023-10-01T08:56:49.813823400Z"
    }
   },
   "id": "3b84f130aa78843b"
  },
  {
   "cell_type": "markdown",
   "source": [
    "## Exercise 3\n",
    "In this exercise, you will practice documenting a Python class named Person using RST docstrings. Follow the provided instructions to add docstrings to the class and its methods."
   ],
   "metadata": {
    "collapsed": false
   },
   "id": "bde2a400fcfcaecf"
  },
  {
   "cell_type": "markdown",
   "source": [
    "1. Create a Python class named Person with the following attributes and methods:\n",
    "   - Attributes:\n",
    "      - `first_name`\n",
    "      - `last_name`\n",
    "   - Methods:\n",
    "      - `__init__(self, first_name, last_name, age)`: Initializes a new Person object with the provided attributes.\n",
    "      - `get_full_name(self)`: Returns the full name of the person in the format \"first_name last_name\"\n",
    "2. Add meaningful RST docstrings to the Person class and its methods. "
   ],
   "metadata": {
    "collapsed": false
   },
   "id": "76955491e40d510e"
  },
  {
   "cell_type": "code",
   "execution_count": 34,
   "outputs": [],
   "source": [
    "# TODO. Your answer here"
   ],
   "metadata": {
    "collapsed": false,
    "ExecuteTime": {
     "end_time": "2023-10-01T08:56:49.880820500Z",
     "start_time": "2023-10-01T08:56:49.828824700Z"
    }
   },
   "id": "b7d784abb1589067"
  },
  {
   "cell_type": "code",
   "execution_count": 35,
   "outputs": [],
   "source": [
    "# example\n",
    "class Person:\n",
    "    \"\"\"\n",
    "    A class representing a person.\n",
    "    \n",
    "    This class defines attributes and methods for managing information\n",
    "    about individuals.\n",
    "    \n",
    "    :param first_name: The first name of the person.\n",
    "    :type first_name: str\n",
    "    :param last_name: The last name of the person.\n",
    "    :type last_name: str\n",
    "    :param age: The age of the person.\n",
    "    :type age: int\n",
    "    \"\"\"\n",
    "    def __init__(self, first_name, last_name):\n",
    "        \"\"\"\n",
    "        Initialize a new Person object.\n",
    "        \n",
    "        :param first_name: The first name of the person.\n",
    "        :type first_name: str\n",
    "        :param last_name: The last name of the person.\n",
    "        :type last_name: str\n",
    "        \"\"\"\n",
    "        self.first_name = first_name\n",
    "        self.last_name = last_name\n",
    "    \n",
    "    def get_full_name(self):\n",
    "        \"\"\"\n",
    "        Get the full name of the person.\n",
    "        \n",
    "        :return: The full name in the format \"first_name last_name\".\n",
    "        :rtype: str\n",
    "        \"\"\"\n",
    "        full_name = self.first_name + ' ' + self.first_name\n",
    "        \n",
    "        return full_name\n",
    "        "
   ],
   "metadata": {
    "collapsed": false,
    "ExecuteTime": {
     "end_time": "2023-10-01T08:56:49.881821800Z",
     "start_time": "2023-10-01T08:56:49.847820600Z"
    }
   },
   "id": "ad4d6e4ccd7dcd2f"
  }
 ],
 "metadata": {
  "kernelspec": {
   "display_name": "Python 3",
   "language": "python",
   "name": "python3"
  },
  "language_info": {
   "codemirror_mode": {
    "name": "ipython",
    "version": 2
   },
   "file_extension": ".py",
   "mimetype": "text/x-python",
   "name": "python",
   "nbconvert_exporter": "python",
   "pygments_lexer": "ipython2",
   "version": "2.7.6"
  }
 },
 "nbformat": 4,
 "nbformat_minor": 5
}
